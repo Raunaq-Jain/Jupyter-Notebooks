{
 "cells": [
  {
   "cell_type": "code",
   "execution_count": 1,
   "metadata": {},
   "outputs": [
    {
     "name": "stderr",
     "output_type": "stream",
     "text": [
      "/home/raunaq/anaconda3/lib/python3.6/site-packages/sklearn/cross_validation.py:44: DeprecationWarning: This module was deprecated in version 0.18 in favor of the model_selection module into which all the refactored classes and functions are moved. Also note that the interface of the new CV iterators are different from that of this module. This module will be removed in 0.20.\n",
      "  \"This module will be removed in 0.20.\", DeprecationWarning)\n"
     ]
    }
   ],
   "source": [
    "import pandas as pd\n",
    "from pandas import Series, DataFrame\n",
    "import numpy as np\n",
    "import matplotlib\n",
    "import matplotlib.pyplot as plt\n",
    "import seaborn as sns\n",
    "sns.set_style('whitegrid')\n",
    "%matplotlib inline\n",
    "\n",
    "#Machine Learning imports \n",
    "from sklearn.ensemble import RandomForestRegressor\n",
    "from scipy.stats import boxcox\n",
    "from sklearn import metrics\n",
    "from sklearn import model_selection\n",
    "from sklearn.model_selection import GridSearchCV\n",
    "from scipy.stats import skew\n",
    "from sklearn.cross_validation import train_test_split"
   ]
  },
  {
   "cell_type": "code",
   "execution_count": 2,
   "metadata": {},
   "outputs": [
    {
     "data": {
      "text/html": [
       "<div>\n",
       "<style>\n",
       "    .dataframe thead tr:only-child th {\n",
       "        text-align: right;\n",
       "    }\n",
       "\n",
       "    .dataframe thead th {\n",
       "        text-align: left;\n",
       "    }\n",
       "\n",
       "    .dataframe tbody tr th {\n",
       "        vertical-align: top;\n",
       "    }\n",
       "</style>\n",
       "<table border=\"1\" class=\"dataframe\">\n",
       "  <thead>\n",
       "    <tr style=\"text-align: right;\">\n",
       "      <th></th>\n",
       "      <th>vidid</th>\n",
       "      <th>adview</th>\n",
       "      <th>views</th>\n",
       "      <th>likes</th>\n",
       "      <th>dislikes</th>\n",
       "      <th>comment</th>\n",
       "      <th>published</th>\n",
       "      <th>duration</th>\n",
       "      <th>category</th>\n",
       "    </tr>\n",
       "  </thead>\n",
       "  <tbody>\n",
       "    <tr>\n",
       "      <th>0</th>\n",
       "      <td>VID_18655</td>\n",
       "      <td>40</td>\n",
       "      <td>1031602</td>\n",
       "      <td>8523</td>\n",
       "      <td>363</td>\n",
       "      <td>1095</td>\n",
       "      <td>2016-09-14</td>\n",
       "      <td>PT7M37S</td>\n",
       "      <td>F</td>\n",
       "    </tr>\n",
       "    <tr>\n",
       "      <th>1</th>\n",
       "      <td>VID_14135</td>\n",
       "      <td>2</td>\n",
       "      <td>1707</td>\n",
       "      <td>56</td>\n",
       "      <td>2</td>\n",
       "      <td>6</td>\n",
       "      <td>2016-10-01</td>\n",
       "      <td>PT9M30S</td>\n",
       "      <td>D</td>\n",
       "    </tr>\n",
       "    <tr>\n",
       "      <th>2</th>\n",
       "      <td>VID_2187</td>\n",
       "      <td>1</td>\n",
       "      <td>2023</td>\n",
       "      <td>25</td>\n",
       "      <td>0</td>\n",
       "      <td>2</td>\n",
       "      <td>2016-07-02</td>\n",
       "      <td>PT2M16S</td>\n",
       "      <td>C</td>\n",
       "    </tr>\n",
       "    <tr>\n",
       "      <th>3</th>\n",
       "      <td>VID_23096</td>\n",
       "      <td>6</td>\n",
       "      <td>620860</td>\n",
       "      <td>777</td>\n",
       "      <td>161</td>\n",
       "      <td>153</td>\n",
       "      <td>2016-07-27</td>\n",
       "      <td>PT4M22S</td>\n",
       "      <td>H</td>\n",
       "    </tr>\n",
       "    <tr>\n",
       "      <th>4</th>\n",
       "      <td>VID_10175</td>\n",
       "      <td>1</td>\n",
       "      <td>666</td>\n",
       "      <td>1</td>\n",
       "      <td>0</td>\n",
       "      <td>0</td>\n",
       "      <td>2016-06-29</td>\n",
       "      <td>PT31S</td>\n",
       "      <td>D</td>\n",
       "    </tr>\n",
       "  </tbody>\n",
       "</table>\n",
       "</div>"
      ],
      "text/plain": [
       "       vidid  adview    views likes dislikes comment   published duration  \\\n",
       "0  VID_18655      40  1031602  8523      363    1095  2016-09-14  PT7M37S   \n",
       "1  VID_14135       2     1707    56        2       6  2016-10-01  PT9M30S   \n",
       "2   VID_2187       1     2023    25        0       2  2016-07-02  PT2M16S   \n",
       "3  VID_23096       6   620860   777      161     153  2016-07-27  PT4M22S   \n",
       "4  VID_10175       1      666     1        0       0  2016-06-29    PT31S   \n",
       "\n",
       "  category  \n",
       "0        F  \n",
       "1        D  \n",
       "2        C  \n",
       "3        H  \n",
       "4        D  "
      ]
     },
     "execution_count": 2,
     "metadata": {},
     "output_type": "execute_result"
    }
   ],
   "source": [
    "train = pd.read_csv(\"ad_org_train.csv\")\n",
    "test = pd.read_csv(\"ad_org_test.csv\")\n",
    "train.head()"
   ]
  },
  {
   "cell_type": "code",
   "execution_count": 3,
   "metadata": {},
   "outputs": [
    {
     "name": "stdout",
     "output_type": "stream",
     "text": [
      "views 2\n",
      "views 1\n",
      "likes 155\n",
      "likes 88\n",
      "dislikes 155\n",
      "dislikes 88\n",
      "comment 233\n",
      "comment 151\n"
     ]
    }
   ],
   "source": [
    "#Removing null values in the data\n",
    "columns = ['views', 'likes', 'dislikes', 'comment']\n",
    "for column in columns:\n",
    "        train[column] = train[column].apply(pd.to_numeric, errors = 'coerce')\n",
    "        test[column] = test[column].apply(pd.to_numeric, errors = 'coerce')        \n",
    "        print (column, train[column].isnull().sum())\n",
    "        print (column, test[column].isnull().sum())\n",
    "train.dropna(inplace=True)\n",
    "test.dropna(inplace=True)"
   ]
  },
  {
   "cell_type": "code",
   "execution_count": 4,
   "metadata": {
    "collapsed": true
   },
   "outputs": [],
   "source": [
    "#Changing the format of duration into seconds\n",
    "def time_transform(data):\n",
    "    duration = data['duration']\n",
    "    h_pos = 0\n",
    "    m_pos = 0\n",
    "    s_pos = len(duration) - 1\n",
    "    time = 0\n",
    "    #duration = list(duration)\n",
    "    if 'H' in duration:\n",
    "        for i in range(2,len(duration)):\n",
    "            if duration[i] == 'H':\n",
    "                h_pos = i\n",
    "                break\n",
    "        time = int(duration[2:h_pos]) * 3600 \n",
    "\n",
    "    if 'M' in duration:\n",
    "        for i in range(2,len(duration)):\n",
    "            if duration[i] == 'M':\n",
    "                m_pos = i\n",
    "                break\n",
    "        if 'H' in duration:\n",
    "            time = time + int(duration[h_pos+1:m_pos]) * 60\n",
    "        else:\n",
    "            time = int(duration[2:m_pos]) * 60\n",
    "        \n",
    "        if 'S' in duration:\n",
    "            time = time + int(duration[m_pos+1:s_pos])\n",
    "        \n",
    "    else:\n",
    "        if 'H' not in duration:\n",
    "            time = time + int(duration[2:s_pos])\n",
    "        else:\n",
    "            time = time + int(duration[h_pos+1:s_pos])\n",
    "    #print (duration, m_pos)\n",
    "    #time = str(time)\n",
    "    #print (time)\n",
    "    data['duration'] = time\n",
    "    data.head()\n",
    "    return data\n",
    "\n",
    "train = train.apply(time_transform, axis=1)\n",
    "test = test.apply(time_transform, axis=1)"
   ]
  },
  {
   "cell_type": "code",
   "execution_count": 5,
   "metadata": {
    "collapsed": true
   },
   "outputs": [],
   "source": [
    "#Creating dummy variables for category column\n",
    "dummies = pd.get_dummies(train.category)\n",
    "train = train.join(dummies)\n",
    "test = test.join(dummies)"
   ]
  },
  {
   "cell_type": "code",
   "execution_count": 6,
   "metadata": {},
   "outputs": [
    {
     "data": {
      "text/html": [
       "<div>\n",
       "<style>\n",
       "    .dataframe thead tr:only-child th {\n",
       "        text-align: right;\n",
       "    }\n",
       "\n",
       "    .dataframe thead th {\n",
       "        text-align: left;\n",
       "    }\n",
       "\n",
       "    .dataframe tbody tr th {\n",
       "        vertical-align: top;\n",
       "    }\n",
       "</style>\n",
       "<table border=\"1\" class=\"dataframe\">\n",
       "  <thead>\n",
       "    <tr style=\"text-align: right;\">\n",
       "      <th></th>\n",
       "      <th>vidid</th>\n",
       "      <th>adview</th>\n",
       "      <th>views</th>\n",
       "      <th>likes</th>\n",
       "      <th>dislikes</th>\n",
       "      <th>comment</th>\n",
       "      <th>published</th>\n",
       "      <th>duration</th>\n",
       "      <th>A</th>\n",
       "      <th>B</th>\n",
       "      <th>C</th>\n",
       "      <th>D</th>\n",
       "      <th>E</th>\n",
       "      <th>F</th>\n",
       "      <th>G</th>\n",
       "      <th>H</th>\n",
       "    </tr>\n",
       "  </thead>\n",
       "  <tbody>\n",
       "    <tr>\n",
       "      <th>0</th>\n",
       "      <td>VID_18655</td>\n",
       "      <td>40</td>\n",
       "      <td>1031602.0</td>\n",
       "      <td>8523.0</td>\n",
       "      <td>363.0</td>\n",
       "      <td>1095.0</td>\n",
       "      <td>2016-09-14</td>\n",
       "      <td>457</td>\n",
       "      <td>0</td>\n",
       "      <td>0</td>\n",
       "      <td>0</td>\n",
       "      <td>0</td>\n",
       "      <td>0</td>\n",
       "      <td>1</td>\n",
       "      <td>0</td>\n",
       "      <td>0</td>\n",
       "    </tr>\n",
       "    <tr>\n",
       "      <th>1</th>\n",
       "      <td>VID_14135</td>\n",
       "      <td>2</td>\n",
       "      <td>1707.0</td>\n",
       "      <td>56.0</td>\n",
       "      <td>2.0</td>\n",
       "      <td>6.0</td>\n",
       "      <td>2016-10-01</td>\n",
       "      <td>570</td>\n",
       "      <td>0</td>\n",
       "      <td>0</td>\n",
       "      <td>0</td>\n",
       "      <td>1</td>\n",
       "      <td>0</td>\n",
       "      <td>0</td>\n",
       "      <td>0</td>\n",
       "      <td>0</td>\n",
       "    </tr>\n",
       "    <tr>\n",
       "      <th>2</th>\n",
       "      <td>VID_2187</td>\n",
       "      <td>1</td>\n",
       "      <td>2023.0</td>\n",
       "      <td>25.0</td>\n",
       "      <td>0.0</td>\n",
       "      <td>2.0</td>\n",
       "      <td>2016-07-02</td>\n",
       "      <td>136</td>\n",
       "      <td>0</td>\n",
       "      <td>0</td>\n",
       "      <td>1</td>\n",
       "      <td>0</td>\n",
       "      <td>0</td>\n",
       "      <td>0</td>\n",
       "      <td>0</td>\n",
       "      <td>0</td>\n",
       "    </tr>\n",
       "    <tr>\n",
       "      <th>3</th>\n",
       "      <td>VID_23096</td>\n",
       "      <td>6</td>\n",
       "      <td>620860.0</td>\n",
       "      <td>777.0</td>\n",
       "      <td>161.0</td>\n",
       "      <td>153.0</td>\n",
       "      <td>2016-07-27</td>\n",
       "      <td>262</td>\n",
       "      <td>0</td>\n",
       "      <td>0</td>\n",
       "      <td>0</td>\n",
       "      <td>0</td>\n",
       "      <td>0</td>\n",
       "      <td>0</td>\n",
       "      <td>0</td>\n",
       "      <td>1</td>\n",
       "    </tr>\n",
       "    <tr>\n",
       "      <th>4</th>\n",
       "      <td>VID_10175</td>\n",
       "      <td>1</td>\n",
       "      <td>666.0</td>\n",
       "      <td>1.0</td>\n",
       "      <td>0.0</td>\n",
       "      <td>0.0</td>\n",
       "      <td>2016-06-29</td>\n",
       "      <td>31</td>\n",
       "      <td>0</td>\n",
       "      <td>0</td>\n",
       "      <td>0</td>\n",
       "      <td>1</td>\n",
       "      <td>0</td>\n",
       "      <td>0</td>\n",
       "      <td>0</td>\n",
       "      <td>0</td>\n",
       "    </tr>\n",
       "  </tbody>\n",
       "</table>\n",
       "</div>"
      ],
      "text/plain": [
       "       vidid  adview      views   likes  dislikes  comment   published  \\\n",
       "0  VID_18655      40  1031602.0  8523.0     363.0   1095.0  2016-09-14   \n",
       "1  VID_14135       2     1707.0    56.0       2.0      6.0  2016-10-01   \n",
       "2   VID_2187       1     2023.0    25.0       0.0      2.0  2016-07-02   \n",
       "3  VID_23096       6   620860.0   777.0     161.0    153.0  2016-07-27   \n",
       "4  VID_10175       1      666.0     1.0       0.0      0.0  2016-06-29   \n",
       "\n",
       "   duration  A  B  C  D  E  F  G  H  \n",
       "0       457  0  0  0  0  0  1  0  0  \n",
       "1       570  0  0  0  1  0  0  0  0  \n",
       "2       136  0  0  1  0  0  0  0  0  \n",
       "3       262  0  0  0  0  0  0  0  1  \n",
       "4        31  0  0  0  1  0  0  0  0  "
      ]
     },
     "execution_count": 6,
     "metadata": {},
     "output_type": "execute_result"
    }
   ],
   "source": [
    "train.drop(['category'], axis=1,inplace=True)\n",
    "test.drop(['category'],axis=1, inplace=True)\n",
    "train.head()"
   ]
  },
  {
   "cell_type": "code",
   "execution_count": 7,
   "metadata": {
    "collapsed": true
   },
   "outputs": [],
   "source": [
    "test.dropna(inplace=True)"
   ]
  },
  {
   "cell_type": "code",
   "execution_count": 8,
   "metadata": {
    "collapsed": true
   },
   "outputs": [],
   "source": [
    "#After analysing model and exploring visual, outliers were detected. Removing these outliers\n",
    "train = train.loc[train.adview < 2000000]\n",
    "train = train[train.index != 1742]\n",
    "train = train[train.index != 1884]\n",
    "train = train[train.index != 1198]"
   ]
  },
  {
   "cell_type": "code",
   "execution_count": 9,
   "metadata": {
    "collapsed": true
   },
   "outputs": [],
   "source": [
    "#Changing the data of video published into datetime dtype\n",
    "train['published'] = pd.to_datetime(train['published'])\n",
    "test['published'] = pd.to_datetime(test['published'])\n",
    "\n",
    "#Extracting important data from date of video published\n",
    "#Creating new features\n",
    "train['dayofweek'] = train.published.dt.dayofweek\n",
    "test['dayofweek'] = test.published.dt.dayofweek\n",
    "#quarter didn't work\n",
    "#weekofyear didn't work\n",
    "\n",
    "train['year'] = train.published.dt.year\n",
    "test['year'] = test.published.dt.year\n",
    "\n",
    "train['month'] = train.published.dt.month\n",
    "test['month'] = test.published.dt.month\n",
    "\n",
    "train.drop(['published'], axis=1, inplace=True)\n",
    "test.drop(['published'], axis=1, inplace=True)"
   ]
  },
  {
   "cell_type": "code",
   "execution_count": 10,
   "metadata": {
    "collapsed": true
   },
   "outputs": [],
   "source": [
    "#The data was very skewed, therefore boxcox transformation was applied. log1p transformation was also tested\n",
    "train['adview'], lambda_ = boxcox(train['adview'])\n",
    "train['views'] = boxcox(train['views'] + 1)[0]\n",
    "train['likes'] = boxcox(train['likes']+ 1)[0]\n",
    "train['dislikes'] = boxcox(train['dislikes']+ 1)[0]\n",
    "train['comment'] = boxcox(train['comment']+ 1)[0]\n",
    "train['duration'] = boxcox(train['duration']+ 1)[0]\n",
    "\n",
    "test['views'] = boxcox(test['views'] + 1)[0]\n",
    "test['likes'] = boxcox(test['likes']+ 1)[0]\n",
    "test['dislikes'] = boxcox(test['dislikes']+ 1)[0]\n",
    "test['comment'] = boxcox(test['comment']+ 1)[0]\n",
    "test['duration'] = boxcox(test['duration']+ 1)[0]"
   ]
  },
  {
   "cell_type": "code",
   "execution_count": 11,
   "metadata": {
    "collapsed": true
   },
   "outputs": [],
   "source": [
    "#Changing the range of year variable for manipulating new features from it\n",
    "train.year = train.year.values - 2005\n",
    "test.year = test.year.values - 2005"
   ]
  },
  {
   "cell_type": "code",
   "execution_count": 12,
   "metadata": {
    "collapsed": true
   },
   "outputs": [],
   "source": [
    "#FEATURE ENGINEERING\n",
    "\n",
    "train['v_l_r'] = train['views'] / train['likes']\n",
    "train['v_dur_r'] = train['views'] / train['duration']\n",
    "train['l_dis_r'] = train['likes'] / train['dislikes']\n",
    "train['l_dur_r'] = train['likes'] / train['duration']\n",
    "train['v_dur_p'] = train['views'] * train['duration']\n",
    "train['v_year_p'] = train['views'] * train['year']\n",
    "train['l_year_p'] = train['likes'] * train['year']\n",
    "diff = train['likes'] - train['dislikes']\n",
    "train['diff_square'] = diff.pow(2)\n",
    "train['c_dur_r'] = train['comment'] / train['duration']\n",
    "train['views_square'] = train.views.pow(2)\n",
    "train['views_permon'] = train['views'] * train['month']\n",
    "train['comment_permon'] = train['comment'] * train['month']\n",
    "train['likes_permon'] = train['likes'] * train['month']\n",
    "\n",
    "test['v_l_r'] = test['views'] / test['likes']\n",
    "test['v_dur_r'] = test['views'] / test['duration']\n",
    "test['l_dis_r'] = test['likes'] / test['dislikes']\n",
    "test['l_dur_r'] = test['likes'] / test['duration']\n",
    "test['v_dur_p'] = test['views'] * test['duration']\n",
    "test['v_year_p'] = test['views'] * test['year']\n",
    "test['l_year_p'] = test['likes'] * test['year']\n",
    "diff = test['likes'] - test['dislikes']\n",
    "test['diff_square'] = diff.pow(2)\n",
    "test['c_dur_r'] = test['comment'] / test['duration']\n",
    "test['views_square'] = test.views.pow(2)\n",
    "test['views_permon'] = test['views'] * test['month']\n",
    "test['comment_permon'] = test['comment'] * test['month']\n",
    "test['likes_permon'] = test['likes'] * test['month']\n"
   ]
  },
  {
   "cell_type": "code",
   "execution_count": 13,
   "metadata": {
    "collapsed": true
   },
   "outputs": [],
   "source": [
    "#Replacing inf values with NaN for easier manipulation\n",
    "train = train.replace([np.inf, -np.inf], np.NaN)\n",
    "test = test.replace([np.inf, -np.inf], np.NaN)"
   ]
  },
  {
   "cell_type": "code",
   "execution_count": 14,
   "metadata": {
    "collapsed": true
   },
   "outputs": [],
   "source": [
    "train.v_l_r.fillna(train.v_l_r.mean(), inplace=True)\n",
    "train.v_dur_r.fillna(train.v_dur_r.mean(), inplace=True)\n",
    "train.l_dis_r.fillna(train.l_dis_r.mean(), inplace=True)\n",
    "train.l_dur_r.fillna(train.l_dur_r.mean(), inplace=True)\n",
    "train.c_dur_r.fillna(train.c_dur_r.mean(), inplace=True)\n",
    "\n",
    "test.v_l_r.fillna(test.v_l_r.mean(), inplace=True)\n",
    "test.v_dur_r.fillna(test.v_dur_r.mean(), inplace=True)\n",
    "test.l_dis_r.fillna(test.l_dis_r.mean(), inplace=True)\n",
    "test.l_dur_r.fillna(test.l_dur_r.mean(), inplace=True)\n",
    "test.c_dur_r.fillna(test.c_dur_r.mean(), inplace=True)"
   ]
  },
  {
   "cell_type": "code",
   "execution_count": 15,
   "metadata": {
    "collapsed": true
   },
   "outputs": [],
   "source": [
    "X_test = test.drop(['vidid'], axis=1).copy()\n",
    "train.drop(['vidid'], axis=1, inplace=True)"
   ]
  },
  {
   "cell_type": "code",
   "execution_count": 16,
   "metadata": {
    "collapsed": true
   },
   "outputs": [],
   "source": [
    "train_y = train['adview']\n",
    "train = train.drop(['adview'], axis = 1)"
   ]
  },
  {
   "cell_type": "code",
   "execution_count": null,
   "metadata": {},
   "outputs": [],
   "source": [
    "#Random Forest model with GridSearch for hyperparameter tuning. 5-fold cross validation was also carried out by using \n",
    "#GridSearchCV. The parameters have already been figured out.\n",
    "rf = RandomForestRegressor(max_features='auto')\n",
    "params = {     \"min_samples_leaf\" : [3]\n",
    "              , \"min_samples_split\" : [ 5]\n",
    "              , \"n_estimators\": [ 300]\n",
    "         }\n",
    "GS = GridSearchCV(estimator=rf, param_grid=params, cv=5,n_jobs=-1)\n",
    "GS= GS.fit(train,train_y)\n",
    "print(GS.best_score_)\n",
    "print(GS.best_params_)"
   ]
  },
  {
   "cell_type": "code",
   "execution_count": 18,
   "metadata": {},
   "outputs": [
    {
     "data": {
      "text/plain": [
       "0.79993626393096684"
      ]
     },
     "execution_count": 18,
     "metadata": {},
     "output_type": "execute_result"
    }
   ],
   "source": [
    "GS.score(train, train_y)"
   ]
  },
  {
   "cell_type": "code",
   "execution_count": 19,
   "metadata": {
    "collapsed": true
   },
   "outputs": [],
   "source": [
    "Y_pred = GS.predict(X_test)"
   ]
  },
  {
   "cell_type": "code",
   "execution_count": 20,
   "metadata": {
    "collapsed": true
   },
   "outputs": [],
   "source": [
    "# Since the data was transformed using boxcox transformation. We have to reverse the transformation \n",
    "# for comprehensible results. Scipy.stats doesn't have an inverse boxcox transformation yet, so I manually inversed it.\n",
    "# The function has been checked/verified on temp data.\n",
    "Y_pred = np.power((Y_pred * lambda_) + 1, 1 / lambda_) "
   ]
  },
  {
   "cell_type": "code",
   "execution_count": 22,
   "metadata": {
    "collapsed": true
   },
   "outputs": [],
   "source": [
    "submission = pd.DataFrame({\n",
    "        \"vid_id\": test[\"vidid\"],\n",
    "        \"ad_view\": Y_pred\n",
    "    })\n",
    "submission.to_csv('adview.csv', index=False)"
   ]
  },
  {
   "cell_type": "code",
   "execution_count": null,
   "metadata": {
    "collapsed": true
   },
   "outputs": [],
   "source": []
  }
 ],
 "metadata": {
  "kernelspec": {
   "display_name": "Python 3",
   "language": "python",
   "name": "python3"
  },
  "language_info": {
   "codemirror_mode": {
    "name": "ipython",
    "version": 3
   },
   "file_extension": ".py",
   "mimetype": "text/x-python",
   "name": "python",
   "nbconvert_exporter": "python",
   "pygments_lexer": "ipython3",
   "version": "3.6.1"
  }
 },
 "nbformat": 4,
 "nbformat_minor": 2
}
