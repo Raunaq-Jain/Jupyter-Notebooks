{
 "cells": [
  {
   "cell_type": "code",
   "execution_count": 1,
   "metadata": {
    "collapsed": true
   },
   "outputs": [],
   "source": [
    "import pandas as pd\n",
    "from pandas import Series, DataFrame\n",
    "import numpy as np\n",
    "import matplotlib\n",
    "import matplotlib.pyplot as plt\n",
    "import seaborn as sns\n",
    "sns.set_style('whitegrid')\n",
    "%matplotlib inline\n",
    "\n",
    "#Machine Learning imports \n",
    "from sklearn.ensemble import RandomForestClassifier\n",
    "from sklearn.linear_model import LogisticRegression\n",
    "from sklearn.neural_network import MLPClassifier"
   ]
  },
  {
   "cell_type": "code",
   "execution_count": 148,
   "metadata": {
    "collapsed": true
   },
   "outputs": [],
   "source": [
    "from sklearn import preprocessing\n",
    "from scipy.stats import skew"
   ]
  },
  {
   "cell_type": "code",
   "execution_count": 2,
   "metadata": {},
   "outputs": [
    {
     "data": {
      "text/html": [
       "<div>\n",
       "<style>\n",
       "    .dataframe thead tr:only-child th {\n",
       "        text-align: right;\n",
       "    }\n",
       "\n",
       "    .dataframe thead th {\n",
       "        text-align: left;\n",
       "    }\n",
       "\n",
       "    .dataframe tbody tr th {\n",
       "        vertical-align: top;\n",
       "    }\n",
       "</style>\n",
       "<table border=\"1\" class=\"dataframe\">\n",
       "  <thead>\n",
       "    <tr style=\"text-align: right;\">\n",
       "      <th></th>\n",
       "      <th>vidid</th>\n",
       "      <th>adview</th>\n",
       "      <th>views</th>\n",
       "      <th>likes</th>\n",
       "      <th>dislikes</th>\n",
       "      <th>comment</th>\n",
       "      <th>published</th>\n",
       "      <th>duration</th>\n",
       "      <th>category</th>\n",
       "    </tr>\n",
       "  </thead>\n",
       "  <tbody>\n",
       "    <tr>\n",
       "      <th>0</th>\n",
       "      <td>VID_18655</td>\n",
       "      <td>40</td>\n",
       "      <td>1031602</td>\n",
       "      <td>8523</td>\n",
       "      <td>363</td>\n",
       "      <td>1095</td>\n",
       "      <td>2016-09-14</td>\n",
       "      <td>PT7M37S</td>\n",
       "      <td>F</td>\n",
       "    </tr>\n",
       "    <tr>\n",
       "      <th>1</th>\n",
       "      <td>VID_14135</td>\n",
       "      <td>2</td>\n",
       "      <td>1707</td>\n",
       "      <td>56</td>\n",
       "      <td>2</td>\n",
       "      <td>6</td>\n",
       "      <td>2016-10-01</td>\n",
       "      <td>PT9M30S</td>\n",
       "      <td>D</td>\n",
       "    </tr>\n",
       "    <tr>\n",
       "      <th>2</th>\n",
       "      <td>VID_2187</td>\n",
       "      <td>1</td>\n",
       "      <td>2023</td>\n",
       "      <td>25</td>\n",
       "      <td>0</td>\n",
       "      <td>2</td>\n",
       "      <td>2016-07-02</td>\n",
       "      <td>PT2M16S</td>\n",
       "      <td>C</td>\n",
       "    </tr>\n",
       "    <tr>\n",
       "      <th>3</th>\n",
       "      <td>VID_23096</td>\n",
       "      <td>6</td>\n",
       "      <td>620860</td>\n",
       "      <td>777</td>\n",
       "      <td>161</td>\n",
       "      <td>153</td>\n",
       "      <td>2016-07-27</td>\n",
       "      <td>PT4M22S</td>\n",
       "      <td>H</td>\n",
       "    </tr>\n",
       "    <tr>\n",
       "      <th>4</th>\n",
       "      <td>VID_10175</td>\n",
       "      <td>1</td>\n",
       "      <td>666</td>\n",
       "      <td>1</td>\n",
       "      <td>0</td>\n",
       "      <td>0</td>\n",
       "      <td>2016-06-29</td>\n",
       "      <td>PT31S</td>\n",
       "      <td>D</td>\n",
       "    </tr>\n",
       "  </tbody>\n",
       "</table>\n",
       "</div>"
      ],
      "text/plain": [
       "       vidid  adview    views likes dislikes comment   published duration  \\\n",
       "0  VID_18655      40  1031602  8523      363    1095  2016-09-14  PT7M37S   \n",
       "1  VID_14135       2     1707    56        2       6  2016-10-01  PT9M30S   \n",
       "2   VID_2187       1     2023    25        0       2  2016-07-02  PT2M16S   \n",
       "3  VID_23096       6   620860   777      161     153  2016-07-27  PT4M22S   \n",
       "4  VID_10175       1      666     1        0       0  2016-06-29    PT31S   \n",
       "\n",
       "  category  \n",
       "0        F  \n",
       "1        D  \n",
       "2        C  \n",
       "3        H  \n",
       "4        D  "
      ]
     },
     "execution_count": 2,
     "metadata": {},
     "output_type": "execute_result"
    }
   ],
   "source": [
    "train = pd.read_csv(\"ad_org_train.csv\")\n",
    "test = pd.read_csv(\"ad_org_test.csv\")\n",
    "train.head()"
   ]
  },
  {
   "cell_type": "code",
   "execution_count": 3,
   "metadata": {
    "scrolled": false
   },
   "outputs": [
    {
     "name": "stdout",
     "output_type": "stream",
     "text": [
      "<class 'pandas.core.frame.DataFrame'>\n",
      "RangeIndex: 14999 entries, 0 to 14998\n",
      "Data columns (total 9 columns):\n",
      "vidid        14999 non-null object\n",
      "adview       14999 non-null int64\n",
      "views        14999 non-null object\n",
      "likes        14999 non-null object\n",
      "dislikes     14999 non-null object\n",
      "comment      14999 non-null object\n",
      "published    14999 non-null object\n",
      "duration     14999 non-null object\n",
      "category     14999 non-null object\n",
      "dtypes: int64(1), object(8)\n",
      "memory usage: 1.0+ MB\n",
      "--------\n",
      "<class 'pandas.core.frame.DataFrame'>\n",
      "RangeIndex: 8764 entries, 0 to 8763\n",
      "Data columns (total 8 columns):\n",
      "vidid        8764 non-null object\n",
      "views        8764 non-null object\n",
      "likes        8764 non-null object\n",
      "dislikes     8764 non-null object\n",
      "comment      8764 non-null object\n",
      "published    8764 non-null object\n",
      "duration     8764 non-null object\n",
      "category     8764 non-null object\n",
      "dtypes: object(8)\n",
      "memory usage: 547.8+ KB\n"
     ]
    }
   ],
   "source": [
    "train.info()\n",
    "print (\"--------\")\n",
    "test.info()"
   ]
  },
  {
   "cell_type": "markdown",
   "metadata": {},
   "source": [
    "# Data Cleanup"
   ]
  },
  {
   "cell_type": "code",
   "execution_count": 63,
   "metadata": {
    "collapsed": true
   },
   "outputs": [],
   "source": [
    "data = train.copy()"
   ]
  },
  {
   "cell_type": "code",
   "execution_count": 64,
   "metadata": {
    "scrolled": false
   },
   "outputs": [
    {
     "name": "stdout",
     "output_type": "stream",
     "text": [
      "adview 0\n",
      "views 2\n",
      "likes 155\n",
      "dislikes 155\n",
      "comment 233\n"
     ]
    }
   ],
   "source": [
    "columns = ['adview', 'views', 'likes', 'dislikes', 'comment']\n",
    "for x in columns:\n",
    "    data[x] = data[x].apply(pd.to_numeric, errors = 'coerce')\n",
    "    print (x, data[x].isnull().sum())"
   ]
  },
  {
   "cell_type": "code",
   "execution_count": 65,
   "metadata": {
    "collapsed": true
   },
   "outputs": [],
   "source": [
    "# NaN is at same position for Likes and Dislikes\n",
    "data = data.dropna()"
   ]
  },
  {
   "cell_type": "code",
   "execution_count": 66,
   "metadata": {
    "collapsed": true
   },
   "outputs": [],
   "source": [
    "data.views = data.views.astype('int')\n",
    "data.likes = data.likes.astype('int')\n",
    "data.dislikes = data.dislikes.astype('int')\n",
    "data.comment = data.comment.astype('int')"
   ]
  },
  {
   "cell_type": "code",
   "execution_count": 67,
   "metadata": {},
   "outputs": [
    {
     "data": {
      "text/html": [
       "<div>\n",
       "<style>\n",
       "    .dataframe thead tr:only-child th {\n",
       "        text-align: right;\n",
       "    }\n",
       "\n",
       "    .dataframe thead th {\n",
       "        text-align: left;\n",
       "    }\n",
       "\n",
       "    .dataframe tbody tr th {\n",
       "        vertical-align: top;\n",
       "    }\n",
       "</style>\n",
       "<table border=\"1\" class=\"dataframe\">\n",
       "  <thead>\n",
       "    <tr style=\"text-align: right;\">\n",
       "      <th></th>\n",
       "      <th>vidid</th>\n",
       "      <th>adview</th>\n",
       "      <th>views</th>\n",
       "      <th>likes</th>\n",
       "      <th>dislikes</th>\n",
       "      <th>comment</th>\n",
       "      <th>published</th>\n",
       "      <th>duration</th>\n",
       "      <th>category</th>\n",
       "    </tr>\n",
       "  </thead>\n",
       "  <tbody>\n",
       "    <tr>\n",
       "      <th>0</th>\n",
       "      <td>VID_18655</td>\n",
       "      <td>40</td>\n",
       "      <td>1031602</td>\n",
       "      <td>8523</td>\n",
       "      <td>363</td>\n",
       "      <td>1095</td>\n",
       "      <td>2016-09-14</td>\n",
       "      <td>PT7M37S</td>\n",
       "      <td>F</td>\n",
       "    </tr>\n",
       "    <tr>\n",
       "      <th>1</th>\n",
       "      <td>VID_14135</td>\n",
       "      <td>2</td>\n",
       "      <td>1707</td>\n",
       "      <td>56</td>\n",
       "      <td>2</td>\n",
       "      <td>6</td>\n",
       "      <td>2016-10-01</td>\n",
       "      <td>PT9M30S</td>\n",
       "      <td>D</td>\n",
       "    </tr>\n",
       "    <tr>\n",
       "      <th>2</th>\n",
       "      <td>VID_2187</td>\n",
       "      <td>1</td>\n",
       "      <td>2023</td>\n",
       "      <td>25</td>\n",
       "      <td>0</td>\n",
       "      <td>2</td>\n",
       "      <td>2016-07-02</td>\n",
       "      <td>PT2M16S</td>\n",
       "      <td>C</td>\n",
       "    </tr>\n",
       "    <tr>\n",
       "      <th>3</th>\n",
       "      <td>VID_23096</td>\n",
       "      <td>6</td>\n",
       "      <td>620860</td>\n",
       "      <td>777</td>\n",
       "      <td>161</td>\n",
       "      <td>153</td>\n",
       "      <td>2016-07-27</td>\n",
       "      <td>PT4M22S</td>\n",
       "      <td>H</td>\n",
       "    </tr>\n",
       "    <tr>\n",
       "      <th>4</th>\n",
       "      <td>VID_10175</td>\n",
       "      <td>1</td>\n",
       "      <td>666</td>\n",
       "      <td>1</td>\n",
       "      <td>0</td>\n",
       "      <td>0</td>\n",
       "      <td>2016-06-29</td>\n",
       "      <td>PT31S</td>\n",
       "      <td>D</td>\n",
       "    </tr>\n",
       "  </tbody>\n",
       "</table>\n",
       "</div>"
      ],
      "text/plain": [
       "       vidid  adview    views  likes  dislikes  comment   published duration  \\\n",
       "0  VID_18655      40  1031602   8523       363     1095  2016-09-14  PT7M37S   \n",
       "1  VID_14135       2     1707     56         2        6  2016-10-01  PT9M30S   \n",
       "2   VID_2187       1     2023     25         0        2  2016-07-02  PT2M16S   \n",
       "3  VID_23096       6   620860    777       161      153  2016-07-27  PT4M22S   \n",
       "4  VID_10175       1      666      1         0        0  2016-06-29    PT31S   \n",
       "\n",
       "  category  \n",
       "0        F  \n",
       "1        D  \n",
       "2        C  \n",
       "3        H  \n",
       "4        D  "
      ]
     },
     "execution_count": 67,
     "metadata": {},
     "output_type": "execute_result"
    }
   ],
   "source": [
    "data.head()"
   ]
  },
  {
   "cell_type": "code",
   "execution_count": 68,
   "metadata": {
    "collapsed": true
   },
   "outputs": [],
   "source": [
    "def time_transform(data1):\n",
    "    duration = data1['duration']\n",
    "    h_pos = 0\n",
    "    m_pos = 0\n",
    "    s_pos = len(duration) - 1\n",
    "    time = 0\n",
    "    #duration = list(duration)\n",
    "    if 'H' in duration:\n",
    "        for i in range(2,len(duration)):\n",
    "            if duration[i] == 'H':\n",
    "                h_pos = i\n",
    "                break\n",
    "        time = int(duration[2:h_pos]) * 3600 \n",
    "\n",
    "    if 'M' in duration:\n",
    "        for i in range(2,len(duration)):\n",
    "            if duration[i] == 'M':\n",
    "                m_pos = i\n",
    "                break\n",
    "        if 'H' in duration:\n",
    "            time = time + int(duration[h_pos+1:m_pos]) * 60\n",
    "        else:\n",
    "            time = int(duration[2:m_pos]) * 60\n",
    "        \n",
    "        if 'S' in duration:\n",
    "            time = time + int(duration[m_pos+1:s_pos])\n",
    "        \n",
    "    else:\n",
    "        if 'H' not in duration:\n",
    "            time = time + int(duration[2:s_pos])\n",
    "        else:\n",
    "            time = time + int(duration[h_pos+1:s_pos])\n",
    "    #print (duration, m_pos)\n",
    "    #time = str(time)\n",
    "    #print (time)\n",
    "    data1['duration'] = time\n",
    "    data1.head()\n",
    "    return data1\n",
    "\n",
    "data = data.apply(time_transform, axis=1)"
   ]
  },
  {
   "cell_type": "code",
   "execution_count": 69,
   "metadata": {},
   "outputs": [
    {
     "data": {
      "text/html": [
       "<div>\n",
       "<style>\n",
       "    .dataframe thead tr:only-child th {\n",
       "        text-align: right;\n",
       "    }\n",
       "\n",
       "    .dataframe thead th {\n",
       "        text-align: left;\n",
       "    }\n",
       "\n",
       "    .dataframe tbody tr th {\n",
       "        vertical-align: top;\n",
       "    }\n",
       "</style>\n",
       "<table border=\"1\" class=\"dataframe\">\n",
       "  <thead>\n",
       "    <tr style=\"text-align: right;\">\n",
       "      <th></th>\n",
       "      <th>vidid</th>\n",
       "      <th>adview</th>\n",
       "      <th>views</th>\n",
       "      <th>likes</th>\n",
       "      <th>dislikes</th>\n",
       "      <th>comment</th>\n",
       "      <th>published</th>\n",
       "      <th>duration</th>\n",
       "      <th>category</th>\n",
       "    </tr>\n",
       "  </thead>\n",
       "  <tbody>\n",
       "    <tr>\n",
       "      <th>0</th>\n",
       "      <td>VID_18655</td>\n",
       "      <td>40</td>\n",
       "      <td>1031602</td>\n",
       "      <td>8523</td>\n",
       "      <td>363</td>\n",
       "      <td>1095</td>\n",
       "      <td>2016-09-14</td>\n",
       "      <td>457</td>\n",
       "      <td>F</td>\n",
       "    </tr>\n",
       "    <tr>\n",
       "      <th>1</th>\n",
       "      <td>VID_14135</td>\n",
       "      <td>2</td>\n",
       "      <td>1707</td>\n",
       "      <td>56</td>\n",
       "      <td>2</td>\n",
       "      <td>6</td>\n",
       "      <td>2016-10-01</td>\n",
       "      <td>570</td>\n",
       "      <td>D</td>\n",
       "    </tr>\n",
       "    <tr>\n",
       "      <th>2</th>\n",
       "      <td>VID_2187</td>\n",
       "      <td>1</td>\n",
       "      <td>2023</td>\n",
       "      <td>25</td>\n",
       "      <td>0</td>\n",
       "      <td>2</td>\n",
       "      <td>2016-07-02</td>\n",
       "      <td>136</td>\n",
       "      <td>C</td>\n",
       "    </tr>\n",
       "    <tr>\n",
       "      <th>3</th>\n",
       "      <td>VID_23096</td>\n",
       "      <td>6</td>\n",
       "      <td>620860</td>\n",
       "      <td>777</td>\n",
       "      <td>161</td>\n",
       "      <td>153</td>\n",
       "      <td>2016-07-27</td>\n",
       "      <td>262</td>\n",
       "      <td>H</td>\n",
       "    </tr>\n",
       "    <tr>\n",
       "      <th>4</th>\n",
       "      <td>VID_10175</td>\n",
       "      <td>1</td>\n",
       "      <td>666</td>\n",
       "      <td>1</td>\n",
       "      <td>0</td>\n",
       "      <td>0</td>\n",
       "      <td>2016-06-29</td>\n",
       "      <td>31</td>\n",
       "      <td>D</td>\n",
       "    </tr>\n",
       "  </tbody>\n",
       "</table>\n",
       "</div>"
      ],
      "text/plain": [
       "       vidid  adview    views  likes  dislikes  comment   published  duration  \\\n",
       "0  VID_18655      40  1031602   8523       363     1095  2016-09-14       457   \n",
       "1  VID_14135       2     1707     56         2        6  2016-10-01       570   \n",
       "2   VID_2187       1     2023     25         0        2  2016-07-02       136   \n",
       "3  VID_23096       6   620860    777       161      153  2016-07-27       262   \n",
       "4  VID_10175       1      666      1         0        0  2016-06-29        31   \n",
       "\n",
       "  category  \n",
       "0        F  \n",
       "1        D  \n",
       "2        C  \n",
       "3        H  \n",
       "4        D  "
      ]
     },
     "execution_count": 69,
     "metadata": {},
     "output_type": "execute_result"
    }
   ],
   "source": [
    "data.head()"
   ]
  },
  {
   "cell_type": "code",
   "execution_count": 71,
   "metadata": {
    "collapsed": true
   },
   "outputs": [],
   "source": [
    "def date_transformation(publisheds):\n",
    "    return {'year':publisheds[:4], 'month':publisheds[5:7], 'date':publisheds[8:]}\n",
    "#    for published in publisheds:\n",
    "#        published = str(published)\n",
    "#        published = published.split('-')\n",
    "#        published = published[0]\n",
    "#        print (published)\n",
    "#    return publisheds\n",
    "\n",
    "date = data.published.map(date_transformation)\n",
    "#month.value_counts\n",
    "#day.value_counts()"
   ]
  },
  {
   "cell_type": "code",
   "execution_count": 72,
   "metadata": {},
   "outputs": [
    {
     "data": {
      "text/html": [
       "<div>\n",
       "<style>\n",
       "    .dataframe thead tr:only-child th {\n",
       "        text-align: right;\n",
       "    }\n",
       "\n",
       "    .dataframe thead th {\n",
       "        text-align: left;\n",
       "    }\n",
       "\n",
       "    .dataframe tbody tr th {\n",
       "        vertical-align: top;\n",
       "    }\n",
       "</style>\n",
       "<table border=\"1\" class=\"dataframe\">\n",
       "  <thead>\n",
       "    <tr style=\"text-align: right;\">\n",
       "      <th></th>\n",
       "      <th>date</th>\n",
       "      <th>month</th>\n",
       "      <th>year</th>\n",
       "    </tr>\n",
       "  </thead>\n",
       "  <tbody>\n",
       "    <tr>\n",
       "      <th>0</th>\n",
       "      <td>14</td>\n",
       "      <td>09</td>\n",
       "      <td>2016</td>\n",
       "    </tr>\n",
       "    <tr>\n",
       "      <th>1</th>\n",
       "      <td>01</td>\n",
       "      <td>10</td>\n",
       "      <td>2016</td>\n",
       "    </tr>\n",
       "    <tr>\n",
       "      <th>2</th>\n",
       "      <td>02</td>\n",
       "      <td>07</td>\n",
       "      <td>2016</td>\n",
       "    </tr>\n",
       "    <tr>\n",
       "      <th>3</th>\n",
       "      <td>27</td>\n",
       "      <td>07</td>\n",
       "      <td>2016</td>\n",
       "    </tr>\n",
       "    <tr>\n",
       "      <th>4</th>\n",
       "      <td>29</td>\n",
       "      <td>06</td>\n",
       "      <td>2016</td>\n",
       "    </tr>\n",
       "  </tbody>\n",
       "</table>\n",
       "</div>"
      ],
      "text/plain": [
       "  date month  year\n",
       "0   14    09  2016\n",
       "1   01    10  2016\n",
       "2   02    07  2016\n",
       "3   27    07  2016\n",
       "4   29    06  2016"
      ]
     },
     "execution_count": 72,
     "metadata": {},
     "output_type": "execute_result"
    }
   ],
   "source": [
    "published = pd.DataFrame(list(date))\n",
    "published.head()"
   ]
  },
  {
   "cell_type": "code",
   "execution_count": 73,
   "metadata": {
    "scrolled": true
   },
   "outputs": [
    {
     "name": "stdout",
     "output_type": "stream",
     "text": [
      "date 28    527\n",
      "15    526\n",
      "16    517\n",
      "06    512\n",
      "24    506\n",
      "03    506\n",
      "23    502\n",
      "20    499\n",
      "18    499\n",
      "25    493\n",
      "13    486\n",
      "04    486\n",
      "26    486\n",
      "08    481\n",
      "02    481\n",
      "01    478\n",
      "21    476\n",
      "14    472\n",
      "27    470\n",
      "05    464\n",
      "09    464\n",
      "07    462\n",
      "10    459\n",
      "12    453\n",
      "17    453\n",
      "30    451\n",
      "22    450\n",
      "11    445\n",
      "29    419\n",
      "19    419\n",
      "31    295\n",
      "Name: date, dtype: int64\n",
      "month 08    1554\n",
      "07    1446\n",
      "09    1401\n",
      "06    1336\n",
      "05    1203\n",
      "12    1188\n",
      "04    1186\n",
      "10    1138\n",
      "03    1126\n",
      "11    1022\n",
      "01    1022\n",
      "02    1015\n",
      "Name: month, dtype: int64\n",
      "year 2016    4788\n",
      "2015    3001\n",
      "2014    2317\n",
      "2013    1974\n",
      "2012     992\n",
      "2011     549\n",
      "2017     543\n",
      "2010     304\n",
      "2009      94\n",
      "2008      38\n",
      "2006      20\n",
      "2007      15\n",
      "2005       2\n",
      "Name: year, dtype: int64\n"
     ]
    }
   ],
   "source": [
    "print ('date', published.date.value_counts())\n",
    "print ('month', published.month.value_counts())\n",
    "print ('year', published.year.value_counts())"
   ]
  },
  {
   "cell_type": "code",
   "execution_count": 74,
   "metadata": {},
   "outputs": [
    {
     "data": {
      "text/html": [
       "<div>\n",
       "<style>\n",
       "    .dataframe thead tr:only-child th {\n",
       "        text-align: right;\n",
       "    }\n",
       "\n",
       "    .dataframe thead th {\n",
       "        text-align: left;\n",
       "    }\n",
       "\n",
       "    .dataframe tbody tr th {\n",
       "        vertical-align: top;\n",
       "    }\n",
       "</style>\n",
       "<table border=\"1\" class=\"dataframe\">\n",
       "  <thead>\n",
       "    <tr style=\"text-align: right;\">\n",
       "      <th></th>\n",
       "      <th>vidid</th>\n",
       "      <th>adview</th>\n",
       "      <th>views</th>\n",
       "      <th>likes</th>\n",
       "      <th>dislikes</th>\n",
       "      <th>comment</th>\n",
       "      <th>published</th>\n",
       "      <th>duration</th>\n",
       "      <th>category</th>\n",
       "    </tr>\n",
       "  </thead>\n",
       "  <tbody>\n",
       "    <tr>\n",
       "      <th>0</th>\n",
       "      <td>VID_18655</td>\n",
       "      <td>40</td>\n",
       "      <td>1031602</td>\n",
       "      <td>8523</td>\n",
       "      <td>363</td>\n",
       "      <td>1095</td>\n",
       "      <td>2016-09-14</td>\n",
       "      <td>457</td>\n",
       "      <td>F</td>\n",
       "    </tr>\n",
       "    <tr>\n",
       "      <th>1</th>\n",
       "      <td>VID_14135</td>\n",
       "      <td>2</td>\n",
       "      <td>1707</td>\n",
       "      <td>56</td>\n",
       "      <td>2</td>\n",
       "      <td>6</td>\n",
       "      <td>2016-10-01</td>\n",
       "      <td>570</td>\n",
       "      <td>D</td>\n",
       "    </tr>\n",
       "    <tr>\n",
       "      <th>2</th>\n",
       "      <td>VID_2187</td>\n",
       "      <td>1</td>\n",
       "      <td>2023</td>\n",
       "      <td>25</td>\n",
       "      <td>0</td>\n",
       "      <td>2</td>\n",
       "      <td>2016-07-02</td>\n",
       "      <td>136</td>\n",
       "      <td>C</td>\n",
       "    </tr>\n",
       "    <tr>\n",
       "      <th>3</th>\n",
       "      <td>VID_23096</td>\n",
       "      <td>6</td>\n",
       "      <td>620860</td>\n",
       "      <td>777</td>\n",
       "      <td>161</td>\n",
       "      <td>153</td>\n",
       "      <td>2016-07-27</td>\n",
       "      <td>262</td>\n",
       "      <td>H</td>\n",
       "    </tr>\n",
       "    <tr>\n",
       "      <th>4</th>\n",
       "      <td>VID_10175</td>\n",
       "      <td>1</td>\n",
       "      <td>666</td>\n",
       "      <td>1</td>\n",
       "      <td>0</td>\n",
       "      <td>0</td>\n",
       "      <td>2016-06-29</td>\n",
       "      <td>31</td>\n",
       "      <td>D</td>\n",
       "    </tr>\n",
       "  </tbody>\n",
       "</table>\n",
       "</div>"
      ],
      "text/plain": [
       "       vidid  adview    views  likes  dislikes  comment   published  duration  \\\n",
       "0  VID_18655      40  1031602   8523       363     1095  2016-09-14       457   \n",
       "1  VID_14135       2     1707     56         2        6  2016-10-01       570   \n",
       "2   VID_2187       1     2023     25         0        2  2016-07-02       136   \n",
       "3  VID_23096       6   620860    777       161      153  2016-07-27       262   \n",
       "4  VID_10175       1      666      1         0        0  2016-06-29        31   \n",
       "\n",
       "  category  \n",
       "0        F  \n",
       "1        D  \n",
       "2        C  \n",
       "3        H  \n",
       "4        D  "
      ]
     },
     "execution_count": 74,
     "metadata": {},
     "output_type": "execute_result"
    }
   ],
   "source": [
    "data.head()"
   ]
  },
  {
   "cell_type": "code",
   "execution_count": 75,
   "metadata": {},
   "outputs": [
    {
     "data": {
      "text/html": [
       "<div>\n",
       "<style>\n",
       "    .dataframe thead tr:only-child th {\n",
       "        text-align: right;\n",
       "    }\n",
       "\n",
       "    .dataframe thead th {\n",
       "        text-align: left;\n",
       "    }\n",
       "\n",
       "    .dataframe tbody tr th {\n",
       "        vertical-align: top;\n",
       "    }\n",
       "</style>\n",
       "<table border=\"1\" class=\"dataframe\">\n",
       "  <thead>\n",
       "    <tr style=\"text-align: right;\">\n",
       "      <th></th>\n",
       "      <th>vidid</th>\n",
       "      <th>adview</th>\n",
       "      <th>views</th>\n",
       "      <th>likes</th>\n",
       "      <th>dislikes</th>\n",
       "      <th>comment</th>\n",
       "      <th>published</th>\n",
       "      <th>duration</th>\n",
       "      <th>category</th>\n",
       "    </tr>\n",
       "  </thead>\n",
       "  <tbody>\n",
       "    <tr>\n",
       "      <th>1201</th>\n",
       "      <td>VID_19227</td>\n",
       "      <td>1</td>\n",
       "      <td>1698868</td>\n",
       "      <td>815</td>\n",
       "      <td>292</td>\n",
       "      <td>45</td>\n",
       "      <td>2016-12-27</td>\n",
       "      <td>1228</td>\n",
       "      <td>G</td>\n",
       "    </tr>\n",
       "    <tr>\n",
       "      <th>1554</th>\n",
       "      <td>VID_4334</td>\n",
       "      <td>2</td>\n",
       "      <td>802908</td>\n",
       "      <td>2522</td>\n",
       "      <td>665</td>\n",
       "      <td>119</td>\n",
       "      <td>2016-12-27</td>\n",
       "      <td>529</td>\n",
       "      <td>D</td>\n",
       "    </tr>\n",
       "    <tr>\n",
       "      <th>1742</th>\n",
       "      <td>VID_11979</td>\n",
       "      <td>1333626</td>\n",
       "      <td>1344097</td>\n",
       "      <td>60</td>\n",
       "      <td>7</td>\n",
       "      <td>4</td>\n",
       "      <td>2016-12-27</td>\n",
       "      <td>58</td>\n",
       "      <td>D</td>\n",
       "    </tr>\n",
       "    <tr>\n",
       "      <th>2012</th>\n",
       "      <td>VID_11980</td>\n",
       "      <td>1497349</td>\n",
       "      <td>1525185</td>\n",
       "      <td>414</td>\n",
       "      <td>114</td>\n",
       "      <td>19</td>\n",
       "      <td>2016-12-27</td>\n",
       "      <td>69</td>\n",
       "      <td>D</td>\n",
       "    </tr>\n",
       "    <tr>\n",
       "      <th>9030</th>\n",
       "      <td>VID_1525</td>\n",
       "      <td>91</td>\n",
       "      <td>410124</td>\n",
       "      <td>2606</td>\n",
       "      <td>134</td>\n",
       "      <td>319</td>\n",
       "      <td>2016-12-27</td>\n",
       "      <td>56</td>\n",
       "      <td>B</td>\n",
       "    </tr>\n",
       "    <tr>\n",
       "      <th>11931</th>\n",
       "      <td>VID_12014</td>\n",
       "      <td>575</td>\n",
       "      <td>54650</td>\n",
       "      <td>171</td>\n",
       "      <td>25</td>\n",
       "      <td>5</td>\n",
       "      <td>2016-12-27</td>\n",
       "      <td>81</td>\n",
       "      <td>D</td>\n",
       "    </tr>\n",
       "  </tbody>\n",
       "</table>\n",
       "</div>"
      ],
      "text/plain": [
       "           vidid   adview    views  likes  dislikes  comment   published  \\\n",
       "1201   VID_19227        1  1698868    815       292       45  2016-12-27   \n",
       "1554    VID_4334        2   802908   2522       665      119  2016-12-27   \n",
       "1742   VID_11979  1333626  1344097     60         7        4  2016-12-27   \n",
       "2012   VID_11980  1497349  1525185    414       114       19  2016-12-27   \n",
       "9030    VID_1525       91   410124   2606       134      319  2016-12-27   \n",
       "11931  VID_12014      575    54650    171        25        5  2016-12-27   \n",
       "\n",
       "       duration category  \n",
       "1201       1228        G  \n",
       "1554        529        D  \n",
       "1742         58        D  \n",
       "2012         69        D  \n",
       "9030         56        B  \n",
       "11931        81        D  "
      ]
     },
     "execution_count": 75,
     "metadata": {},
     "output_type": "execute_result"
    }
   ],
   "source": [
    "data.loc[data.published == '2016-12-27']"
   ]
  },
  {
   "cell_type": "code",
   "execution_count": 84,
   "metadata": {},
   "outputs": [
    {
     "data": {
      "text/html": [
       "<div>\n",
       "<style>\n",
       "    .dataframe thead tr:only-child th {\n",
       "        text-align: right;\n",
       "    }\n",
       "\n",
       "    .dataframe thead th {\n",
       "        text-align: left;\n",
       "    }\n",
       "\n",
       "    .dataframe tbody tr th {\n",
       "        vertical-align: top;\n",
       "    }\n",
       "</style>\n",
       "<table border=\"1\" class=\"dataframe\">\n",
       "  <thead>\n",
       "    <tr style=\"text-align: right;\">\n",
       "      <th></th>\n",
       "      <th>vidid</th>\n",
       "      <th>adview</th>\n",
       "      <th>views</th>\n",
       "      <th>likes</th>\n",
       "      <th>dislikes</th>\n",
       "      <th>comment</th>\n",
       "      <th>published</th>\n",
       "      <th>duration</th>\n",
       "      <th>category</th>\n",
       "    </tr>\n",
       "  </thead>\n",
       "  <tbody>\n",
       "  </tbody>\n",
       "</table>\n",
       "</div>"
      ],
      "text/plain": [
       "Empty DataFrame\n",
       "Columns: [vidid, adview, views, likes, dislikes, comment, published, duration, category]\n",
       "Index: []"
      ]
     },
     "execution_count": 84,
     "metadata": {},
     "output_type": "execute_result"
    }
   ],
   "source": [
    "data.loc[data.duplicated('vidid')]\n",
    "#Vidid is a unique field"
   ]
  },
  {
   "cell_type": "code",
   "execution_count": 85,
   "metadata": {},
   "outputs": [
    {
     "data": {
      "text/plain": [
       "D    7383\n",
       "G    2473\n",
       "E    1597\n",
       "B     970\n",
       "F     879\n",
       "C     556\n",
       "H     421\n",
       "A     358\n",
       "Name: category, dtype: int64"
      ]
     },
     "execution_count": 85,
     "metadata": {},
     "output_type": "execute_result"
    }
   ],
   "source": [
    "data.category.value_counts()"
   ]
  },
  {
   "cell_type": "code",
   "execution_count": 92,
   "metadata": {
    "scrolled": true
   },
   "outputs": [
    {
     "data": {
      "text/plain": [
       "<matplotlib.axes._subplots.AxesSubplot at 0x7f9871c0fdd8>"
      ]
     },
     "execution_count": 92,
     "metadata": {},
     "output_type": "execute_result"
    },
    {
     "data": {
      "image/png": "[encoded data removed]",
      "text/plain": [
       "<matplotlib.figure.Figure at 0x7f9871bea6d8>"
      ]
     },
     "metadata": {},
     "output_type": "display_data"
    }
   ],
   "source": [
    "sns.distplot(data.adview)"
   ]
  },
  {
   "cell_type": "code",
   "execution_count": 93,
   "metadata": {},
   "outputs": [
    {
     "data": {
      "text/plain": [
       "count    1.463700e+04\n",
       "mean     2.066030e+03\n",
       "std      5.282706e+04\n",
       "min      1.000000e+00\n",
       "25%      1.000000e+00\n",
       "50%      2.000000e+00\n",
       "75%      6.000000e+00\n",
       "max      5.429665e+06\n",
       "Name: adview, dtype: float64"
      ]
     },
     "execution_count": 93,
     "metadata": {},
     "output_type": "execute_result"
    }
   ],
   "source": [
    "data.adview.describe()"
   ]
  },
  {
   "cell_type": "code",
   "execution_count": 98,
   "metadata": {},
   "outputs": [
    {
     "data": {
      "text/html": [
       "<div>\n",
       "<style>\n",
       "    .dataframe thead tr:only-child th {\n",
       "        text-align: right;\n",
       "    }\n",
       "\n",
       "    .dataframe thead th {\n",
       "        text-align: left;\n",
       "    }\n",
       "\n",
       "    .dataframe tbody tr th {\n",
       "        vertical-align: top;\n",
       "    }\n",
       "</style>\n",
       "<table border=\"1\" class=\"dataframe\">\n",
       "  <thead>\n",
       "    <tr style=\"text-align: right;\">\n",
       "      <th></th>\n",
       "      <th>vidid</th>\n",
       "      <th>adview</th>\n",
       "      <th>views</th>\n",
       "      <th>likes</th>\n",
       "      <th>dislikes</th>\n",
       "      <th>comment</th>\n",
       "      <th>published</th>\n",
       "      <th>duration</th>\n",
       "      <th>category</th>\n",
       "    </tr>\n",
       "  </thead>\n",
       "  <tbody>\n",
       "    <tr>\n",
       "      <th>1200</th>\n",
       "      <td>VID_17354</td>\n",
       "      <td>1583846</td>\n",
       "      <td>17070057</td>\n",
       "      <td>98594</td>\n",
       "      <td>4234</td>\n",
       "      <td>7276</td>\n",
       "      <td>2016-06-30</td>\n",
       "      <td>189</td>\n",
       "      <td>E</td>\n",
       "    </tr>\n",
       "    <tr>\n",
       "      <th>1742</th>\n",
       "      <td>VID_11979</td>\n",
       "      <td>1333626</td>\n",
       "      <td>1344097</td>\n",
       "      <td>60</td>\n",
       "      <td>7</td>\n",
       "      <td>4</td>\n",
       "      <td>2016-12-27</td>\n",
       "      <td>58</td>\n",
       "      <td>D</td>\n",
       "    </tr>\n",
       "    <tr>\n",
       "      <th>2012</th>\n",
       "      <td>VID_11980</td>\n",
       "      <td>1497349</td>\n",
       "      <td>1525185</td>\n",
       "      <td>414</td>\n",
       "      <td>114</td>\n",
       "      <td>19</td>\n",
       "      <td>2016-12-27</td>\n",
       "      <td>69</td>\n",
       "      <td>D</td>\n",
       "    </tr>\n",
       "    <tr>\n",
       "      <th>9317</th>\n",
       "      <td>VID_22355</td>\n",
       "      <td>5429665</td>\n",
       "      <td>7072849</td>\n",
       "      <td>28360</td>\n",
       "      <td>4333</td>\n",
       "      <td>1872</td>\n",
       "      <td>2017-04-08</td>\n",
       "      <td>259</td>\n",
       "      <td>G</td>\n",
       "    </tr>\n",
       "  </tbody>\n",
       "</table>\n",
       "</div>"
      ],
      "text/plain": [
       "          vidid   adview     views  likes  dislikes  comment   published  \\\n",
       "1200  VID_17354  1583846  17070057  98594      4234     7276  2016-06-30   \n",
       "1742  VID_11979  1333626   1344097     60         7        4  2016-12-27   \n",
       "2012  VID_11980  1497349   1525185    414       114       19  2016-12-27   \n",
       "9317  VID_22355  5429665   7072849  28360      4333     1872  2017-04-08   \n",
       "\n",
       "      duration category  \n",
       "1200       189        E  \n",
       "1742        58        D  \n",
       "2012        69        D  \n",
       "9317       259        G  "
      ]
     },
     "execution_count": 98,
     "metadata": {},
     "output_type": "execute_result"
    }
   ],
   "source": [
    "data.loc[data.adview > 1000000]"
   ]
  },
  {
   "cell_type": "code",
   "execution_count": 102,
   "metadata": {},
   "outputs": [
    {
     "data": {
      "text/html": [
       "<div>\n",
       "<style>\n",
       "    .dataframe thead tr:only-child th {\n",
       "        text-align: right;\n",
       "    }\n",
       "\n",
       "    .dataframe thead th {\n",
       "        text-align: left;\n",
       "    }\n",
       "\n",
       "    .dataframe tbody tr th {\n",
       "        vertical-align: top;\n",
       "    }\n",
       "</style>\n",
       "<table border=\"1\" class=\"dataframe\">\n",
       "  <thead>\n",
       "    <tr style=\"text-align: right;\">\n",
       "      <th></th>\n",
       "      <th>vidid</th>\n",
       "      <th>adview</th>\n",
       "      <th>views</th>\n",
       "      <th>likes</th>\n",
       "      <th>dislikes</th>\n",
       "      <th>comment</th>\n",
       "      <th>published</th>\n",
       "      <th>duration</th>\n",
       "      <th>category</th>\n",
       "    </tr>\n",
       "  </thead>\n",
       "  <tbody>\n",
       "    <tr>\n",
       "      <th>3000</th>\n",
       "      <td>VID_22372</td>\n",
       "      <td>58</td>\n",
       "      <td>138047869</td>\n",
       "      <td>283824</td>\n",
       "      <td>15626</td>\n",
       "      <td>32271</td>\n",
       "      <td>2016-10-18</td>\n",
       "      <td>273</td>\n",
       "      <td>G</td>\n",
       "    </tr>\n",
       "  </tbody>\n",
       "</table>\n",
       "</div>"
      ],
      "text/plain": [
       "          vidid  adview      views   likes  dislikes  comment   published  \\\n",
       "3000  VID_22372      58  138047869  283824     15626    32271  2016-10-18   \n",
       "\n",
       "      duration category  \n",
       "3000       273        G  "
      ]
     },
     "execution_count": 102,
     "metadata": {},
     "output_type": "execute_result"
    }
   ],
   "source": [
    "data.loc[data.views > 100000000]"
   ]
  },
  {
   "cell_type": "code",
   "execution_count": 111,
   "metadata": {},
   "outputs": [
    {
     "data": {
      "text/plain": [
       "<matplotlib.axes._subplots.AxesSubplot at 0x7f9872573a20>"
      ]
     },
     "execution_count": 111,
     "metadata": {},
     "output_type": "execute_result"
    },
    {
     "data": {
      "image/png": "[encoded data removed]",
      "text/plain": [
       "<matplotlib.figure.Figure at 0x7f9872659ac8>"
      ]
     },
     "metadata": {},
     "output_type": "display_data"
    }
   ],
   "source": [
    "sns.boxplot(data['adview'])"
   ]
  },
  {
   "cell_type": "code",
   "execution_count": 104,
   "metadata": {},
   "outputs": [
    {
     "data": {
      "text/plain": [
       "<matplotlib.axes._subplots.AxesSubplot at 0x7f9871f6da90>"
      ]
     },
     "execution_count": 104,
     "metadata": {},
     "output_type": "execute_result"
    },
    {
     "data": {
      "image/png": "[encoded data removed]",
      "text/plain": [
       "<matplotlib.figure.Figure at 0x7f9871fdbac8>"
      ]
     },
     "metadata": {},
     "output_type": "display_data"
    }
   ],
   "source": [
    "sns.boxplot(data.likes)"
   ]
  },
  {
   "cell_type": "code",
   "execution_count": 106,
   "metadata": {},
   "outputs": [
    {
     "data": {
      "text/plain": [
       "<matplotlib.axes._subplots.AxesSubplot at 0x7f98720a5cc0>"
      ]
     },
     "execution_count": 106,
     "metadata": {},
     "output_type": "execute_result"
    },
    {
     "data": {
      "image/png": "[encoded data removed]",
      "text/plain": [
       "<matplotlib.figure.Figure at 0x7f98721420b8>"
      ]
     },
     "metadata": {},
     "output_type": "display_data"
    }
   ],
   "source": [
    "sns.boxplot(data.comment)"
   ]
  },
  {
   "cell_type": "code",
   "execution_count": 107,
   "metadata": {},
   "outputs": [
    {
     "data": {
      "text/plain": [
       "<matplotlib.axes._subplots.AxesSubplot at 0x7f987228d550>"
      ]
     },
     "execution_count": 107,
     "metadata": {},
     "output_type": "execute_result"
    },
    {
     "data": {
      "image/png": "[encoded data removed]",
      "text/plain": [
       "<matplotlib.figure.Figure at 0x7f98722e7240>"
      ]
     },
     "metadata": {},
     "output_type": "display_data"
    }
   ],
   "source": [
    "sns.boxplot(data.duration)"
   ]
  },
  {
   "cell_type": "code",
   "execution_count": 115,
   "metadata": {},
   "outputs": [
    {
     "data": {
      "text/plain": [
       "<matplotlib.axes._subplots.AxesSubplot at 0x7f98734583c8>"
      ]
     },
     "execution_count": 115,
     "metadata": {},
     "output_type": "execute_result"
    },
    {
     "data": {
      "image/png": "[encoded data removed]",
      "text/plain": [
       "<matplotlib.figure.Figure at 0x7f9873205a58>"
      ]
     },
     "metadata": {},
     "output_type": "display_data"
    }
   ],
   "source": [
    "sns.distplot(data.adview, bins = 10)"
   ]
  },
  {
   "cell_type": "code",
   "execution_count": 116,
   "metadata": {},
   "outputs": [
    {
     "data": {
      "text/plain": [
       "adview      79.717422\n",
       "views       21.184045\n",
       "likes       11.652754\n",
       "dislikes    19.473458\n",
       "comment     16.076163\n",
       "duration     6.976915\n",
       "dtype: float64"
      ]
     },
     "execution_count": 116,
     "metadata": {},
     "output_type": "execute_result"
    }
   ],
   "source": [
    "data.skew()"
   ]
  },
  {
   "cell_type": "code",
   "execution_count": 118,
   "metadata": {},
   "outputs": [
    {
     "data": {
      "text/html": [
       "<div>\n",
       "<style>\n",
       "    .dataframe thead tr:only-child th {\n",
       "        text-align: right;\n",
       "    }\n",
       "\n",
       "    .dataframe thead th {\n",
       "        text-align: left;\n",
       "    }\n",
       "\n",
       "    .dataframe tbody tr th {\n",
       "        vertical-align: top;\n",
       "    }\n",
       "</style>\n",
       "<table border=\"1\" class=\"dataframe\">\n",
       "  <thead>\n",
       "    <tr style=\"text-align: right;\">\n",
       "      <th></th>\n",
       "      <th>vidid</th>\n",
       "      <th>adview</th>\n",
       "      <th>views</th>\n",
       "      <th>likes</th>\n",
       "      <th>dislikes</th>\n",
       "      <th>comment</th>\n",
       "      <th>published</th>\n",
       "      <th>duration</th>\n",
       "      <th>category</th>\n",
       "    </tr>\n",
       "  </thead>\n",
       "  <tbody>\n",
       "    <tr>\n",
       "      <th>0</th>\n",
       "      <td>VID_18655</td>\n",
       "      <td>40</td>\n",
       "      <td>1031602</td>\n",
       "      <td>8523</td>\n",
       "      <td>363</td>\n",
       "      <td>1095</td>\n",
       "      <td>2016-09-14</td>\n",
       "      <td>457</td>\n",
       "      <td>F</td>\n",
       "    </tr>\n",
       "    <tr>\n",
       "      <th>1</th>\n",
       "      <td>VID_14135</td>\n",
       "      <td>2</td>\n",
       "      <td>1707</td>\n",
       "      <td>56</td>\n",
       "      <td>2</td>\n",
       "      <td>6</td>\n",
       "      <td>2016-10-01</td>\n",
       "      <td>570</td>\n",
       "      <td>D</td>\n",
       "    </tr>\n",
       "    <tr>\n",
       "      <th>2</th>\n",
       "      <td>VID_2187</td>\n",
       "      <td>1</td>\n",
       "      <td>2023</td>\n",
       "      <td>25</td>\n",
       "      <td>0</td>\n",
       "      <td>2</td>\n",
       "      <td>2016-07-02</td>\n",
       "      <td>136</td>\n",
       "      <td>C</td>\n",
       "    </tr>\n",
       "    <tr>\n",
       "      <th>3</th>\n",
       "      <td>VID_23096</td>\n",
       "      <td>6</td>\n",
       "      <td>620860</td>\n",
       "      <td>777</td>\n",
       "      <td>161</td>\n",
       "      <td>153</td>\n",
       "      <td>2016-07-27</td>\n",
       "      <td>262</td>\n",
       "      <td>H</td>\n",
       "    </tr>\n",
       "    <tr>\n",
       "      <th>4</th>\n",
       "      <td>VID_10175</td>\n",
       "      <td>1</td>\n",
       "      <td>666</td>\n",
       "      <td>1</td>\n",
       "      <td>0</td>\n",
       "      <td>0</td>\n",
       "      <td>2016-06-29</td>\n",
       "      <td>31</td>\n",
       "      <td>D</td>\n",
       "    </tr>\n",
       "  </tbody>\n",
       "</table>\n",
       "</div>"
      ],
      "text/plain": [
       "       vidid  adview    views  likes  dislikes  comment   published  duration  \\\n",
       "0  VID_18655      40  1031602   8523       363     1095  2016-09-14       457   \n",
       "1  VID_14135       2     1707     56         2        6  2016-10-01       570   \n",
       "2   VID_2187       1     2023     25         0        2  2016-07-02       136   \n",
       "3  VID_23096       6   620860    777       161      153  2016-07-27       262   \n",
       "4  VID_10175       1      666      1         0        0  2016-06-29        31   \n",
       "\n",
       "  category  \n",
       "0        F  \n",
       "1        D  \n",
       "2        C  \n",
       "3        H  \n",
       "4        D  "
      ]
     },
     "execution_count": 118,
     "metadata": {},
     "output_type": "execute_result"
    }
   ],
   "source": [
    "data.head()"
   ]
  },
  {
   "cell_type": "code",
   "execution_count": 122,
   "metadata": {
    "scrolled": true
   },
   "outputs": [
    {
     "data": {
      "text/html": [
       "<div>\n",
       "<style>\n",
       "    .dataframe thead tr:only-child th {\n",
       "        text-align: right;\n",
       "    }\n",
       "\n",
       "    .dataframe thead th {\n",
       "        text-align: left;\n",
       "    }\n",
       "\n",
       "    .dataframe tbody tr th {\n",
       "        vertical-align: top;\n",
       "    }\n",
       "</style>\n",
       "<table border=\"1\" class=\"dataframe\">\n",
       "  <thead>\n",
       "    <tr style=\"text-align: right;\">\n",
       "      <th></th>\n",
       "      <th>adview</th>\n",
       "      <th>views</th>\n",
       "      <th>likes</th>\n",
       "      <th>dislikes</th>\n",
       "      <th>comment</th>\n",
       "      <th>duration</th>\n",
       "    </tr>\n",
       "  </thead>\n",
       "  <tbody>\n",
       "    <tr>\n",
       "      <th>count</th>\n",
       "      <td>1.463700e+04</td>\n",
       "      <td>1.463700e+04</td>\n",
       "      <td>14637.000000</td>\n",
       "      <td>14637.000000</td>\n",
       "      <td>14637.000000</td>\n",
       "      <td>14637.000000</td>\n",
       "    </tr>\n",
       "    <tr>\n",
       "      <th>mean</th>\n",
       "      <td>2.066030e+03</td>\n",
       "      <td>7.112280e+05</td>\n",
       "      <td>2785.841293</td>\n",
       "      <td>254.429391</td>\n",
       "      <td>409.135547</td>\n",
       "      <td>1040.179067</td>\n",
       "    </tr>\n",
       "    <tr>\n",
       "      <th>std</th>\n",
       "      <td>5.282706e+04</td>\n",
       "      <td>2.731475e+06</td>\n",
       "      <td>8938.490736</td>\n",
       "      <td>1029.774864</td>\n",
       "      <td>1511.176934</td>\n",
       "      <td>2316.818747</td>\n",
       "    </tr>\n",
       "    <tr>\n",
       "      <th>min</th>\n",
       "      <td>1.000000e+00</td>\n",
       "      <td>4.900000e+01</td>\n",
       "      <td>0.000000</td>\n",
       "      <td>0.000000</td>\n",
       "      <td>0.000000</td>\n",
       "      <td>0.000000</td>\n",
       "    </tr>\n",
       "    <tr>\n",
       "      <th>25%</th>\n",
       "      <td>1.000000e+00</td>\n",
       "      <td>3.151700e+04</td>\n",
       "      <td>88.000000</td>\n",
       "      <td>7.000000</td>\n",
       "      <td>7.000000</td>\n",
       "      <td>187.000000</td>\n",
       "    </tr>\n",
       "    <tr>\n",
       "      <th>50%</th>\n",
       "      <td>2.000000e+00</td>\n",
       "      <td>1.586680e+05</td>\n",
       "      <td>450.000000</td>\n",
       "      <td>38.000000</td>\n",
       "      <td>46.000000</td>\n",
       "      <td>325.000000</td>\n",
       "    </tr>\n",
       "    <tr>\n",
       "      <th>75%</th>\n",
       "      <td>6.000000e+00</td>\n",
       "      <td>5.836130e+05</td>\n",
       "      <td>1863.000000</td>\n",
       "      <td>167.000000</td>\n",
       "      <td>224.000000</td>\n",
       "      <td>723.000000</td>\n",
       "    </tr>\n",
       "    <tr>\n",
       "      <th>max</th>\n",
       "      <td>5.429665e+06</td>\n",
       "      <td>1.380479e+08</td>\n",
       "      <td>283824.000000</td>\n",
       "      <td>49449.000000</td>\n",
       "      <td>75045.000000</td>\n",
       "      <td>42317.000000</td>\n",
       "    </tr>\n",
       "  </tbody>\n",
       "</table>\n",
       "</div>"
      ],
      "text/plain": [
       "             adview         views          likes      dislikes       comment  \\\n",
       "count  1.463700e+04  1.463700e+04   14637.000000  14637.000000  14637.000000   \n",
       "mean   2.066030e+03  7.112280e+05    2785.841293    254.429391    409.135547   \n",
       "std    5.282706e+04  2.731475e+06    8938.490736   1029.774864   1511.176934   \n",
       "min    1.000000e+00  4.900000e+01       0.000000      0.000000      0.000000   \n",
       "25%    1.000000e+00  3.151700e+04      88.000000      7.000000      7.000000   \n",
       "50%    2.000000e+00  1.586680e+05     450.000000     38.000000     46.000000   \n",
       "75%    6.000000e+00  5.836130e+05    1863.000000    167.000000    224.000000   \n",
       "max    5.429665e+06  1.380479e+08  283824.000000  49449.000000  75045.000000   \n",
       "\n",
       "           duration  \n",
       "count  14637.000000  \n",
       "mean    1040.179067  \n",
       "std     2316.818747  \n",
       "min        0.000000  \n",
       "25%      187.000000  \n",
       "50%      325.000000  \n",
       "75%      723.000000  \n",
       "max    42317.000000  "
      ]
     },
     "execution_count": 122,
     "metadata": {},
     "output_type": "execute_result"
    }
   ],
   "source": [
    "data.describe()"
   ]
  },
  {
   "cell_type": "code",
   "execution_count": 135,
   "metadata": {},
   "outputs": [
    {
     "data": {
      "text/html": [
       "<div>\n",
       "<style>\n",
       "    .dataframe thead tr:only-child th {\n",
       "        text-align: right;\n",
       "    }\n",
       "\n",
       "    .dataframe thead th {\n",
       "        text-align: left;\n",
       "    }\n",
       "\n",
       "    .dataframe tbody tr th {\n",
       "        vertical-align: top;\n",
       "    }\n",
       "</style>\n",
       "<table border=\"1\" class=\"dataframe\">\n",
       "  <thead>\n",
       "    <tr style=\"text-align: right;\">\n",
       "      <th></th>\n",
       "      <th>adview</th>\n",
       "      <th>views</th>\n",
       "      <th>likes</th>\n",
       "      <th>duration</th>\n",
       "      <th>dislikes</th>\n",
       "      <th>comment</th>\n",
       "    </tr>\n",
       "  </thead>\n",
       "  <tbody>\n",
       "    <tr>\n",
       "      <th>0</th>\n",
       "      <td>40</td>\n",
       "      <td>1031602</td>\n",
       "      <td>8523</td>\n",
       "      <td>457</td>\n",
       "      <td>363</td>\n",
       "      <td>1095</td>\n",
       "    </tr>\n",
       "    <tr>\n",
       "      <th>1</th>\n",
       "      <td>2</td>\n",
       "      <td>1707</td>\n",
       "      <td>56</td>\n",
       "      <td>570</td>\n",
       "      <td>2</td>\n",
       "      <td>6</td>\n",
       "    </tr>\n",
       "    <tr>\n",
       "      <th>2</th>\n",
       "      <td>1</td>\n",
       "      <td>2023</td>\n",
       "      <td>25</td>\n",
       "      <td>136</td>\n",
       "      <td>0</td>\n",
       "      <td>2</td>\n",
       "    </tr>\n",
       "    <tr>\n",
       "      <th>3</th>\n",
       "      <td>6</td>\n",
       "      <td>620860</td>\n",
       "      <td>777</td>\n",
       "      <td>262</td>\n",
       "      <td>161</td>\n",
       "      <td>153</td>\n",
       "    </tr>\n",
       "    <tr>\n",
       "      <th>4</th>\n",
       "      <td>1</td>\n",
       "      <td>666</td>\n",
       "      <td>1</td>\n",
       "      <td>31</td>\n",
       "      <td>0</td>\n",
       "      <td>0</td>\n",
       "    </tr>\n",
       "  </tbody>\n",
       "</table>\n",
       "</div>"
      ],
      "text/plain": [
       "   adview    views  likes  duration  dislikes  comment\n",
       "0      40  1031602   8523       457       363     1095\n",
       "1       2     1707     56       570         2        6\n",
       "2       1     2023     25       136         0        2\n",
       "3       6   620860    777       262       161      153\n",
       "4       1      666      1        31         0        0"
      ]
     },
     "execution_count": 135,
     "metadata": {},
     "output_type": "execute_result"
    }
   ],
   "source": [
    "columns2 = ['adview', 'views', 'likes', 'duration','dislikes','comment']\n",
    "data1 = pd.DataFrame(data,columns =columns2)\n",
    "data1.head()"
   ]
  },
  {
   "cell_type": "code",
   "execution_count": 136,
   "metadata": {
    "collapsed": true
   },
   "outputs": [],
   "source": [
    "data_scaled = preprocessing.scale(data1)"
   ]
  },
  {
   "cell_type": "code",
   "execution_count": 138,
   "metadata": {
    "collapsed": true
   },
   "outputs": [],
   "source": [
    "data_scaled = pd.DataFrame(data_scaled, columns = columns2)"
   ]
  },
  {
   "cell_type": "code",
   "execution_count": 153,
   "metadata": {},
   "outputs": [
    {
     "data": {
      "text/html": [
       "<div>\n",
       "<style>\n",
       "    .dataframe thead tr:only-child th {\n",
       "        text-align: right;\n",
       "    }\n",
       "\n",
       "    .dataframe thead th {\n",
       "        text-align: left;\n",
       "    }\n",
       "\n",
       "    .dataframe tbody tr th {\n",
       "        vertical-align: top;\n",
       "    }\n",
       "</style>\n",
       "<table border=\"1\" class=\"dataframe\">\n",
       "  <thead>\n",
       "    <tr style=\"text-align: right;\">\n",
       "      <th></th>\n",
       "      <th>adview</th>\n",
       "      <th>views</th>\n",
       "      <th>likes</th>\n",
       "      <th>duration</th>\n",
       "      <th>dislikes</th>\n",
       "      <th>comment</th>\n",
       "    </tr>\n",
       "  </thead>\n",
       "  <tbody>\n",
       "    <tr>\n",
       "      <th>count</th>\n",
       "      <td>1.463700e+04</td>\n",
       "      <td>1.463700e+04</td>\n",
       "      <td>1.463700e+04</td>\n",
       "      <td>1.463700e+04</td>\n",
       "      <td>1.463700e+04</td>\n",
       "      <td>1.463700e+04</td>\n",
       "    </tr>\n",
       "    <tr>\n",
       "      <th>mean</th>\n",
       "      <td>-4.601562e-16</td>\n",
       "      <td>-3.758390e-18</td>\n",
       "      <td>-4.452421e-17</td>\n",
       "      <td>-3.437922e-17</td>\n",
       "      <td>-1.020473e-16</td>\n",
       "      <td>7.433344e-18</td>\n",
       "    </tr>\n",
       "    <tr>\n",
       "      <th>std</th>\n",
       "      <td>1.000034e+00</td>\n",
       "      <td>1.000034e+00</td>\n",
       "      <td>1.000034e+00</td>\n",
       "      <td>1.000034e+00</td>\n",
       "      <td>1.000034e+00</td>\n",
       "      <td>1.000034e+00</td>\n",
       "    </tr>\n",
       "    <tr>\n",
       "      <th>min</th>\n",
       "      <td>-3.909172e-02</td>\n",
       "      <td>-2.603734e-01</td>\n",
       "      <td>-3.116786e-01</td>\n",
       "      <td>-4.489840e-01</td>\n",
       "      <td>-2.470813e-01</td>\n",
       "      <td>-2.707489e-01</td>\n",
       "    </tr>\n",
       "    <tr>\n",
       "      <th>25%</th>\n",
       "      <td>-3.909172e-02</td>\n",
       "      <td>-2.488524e-01</td>\n",
       "      <td>-3.018332e-01</td>\n",
       "      <td>-3.682671e-01</td>\n",
       "      <td>-2.402834e-01</td>\n",
       "      <td>-2.661166e-01</td>\n",
       "    </tr>\n",
       "    <tr>\n",
       "      <th>50%</th>\n",
       "      <td>-3.907279e-02</td>\n",
       "      <td>-2.023005e-01</td>\n",
       "      <td>-2.613328e-01</td>\n",
       "      <td>-3.087007e-01</td>\n",
       "      <td>-2.101787e-01</td>\n",
       "      <td>-2.403080e-01</td>\n",
       "    </tr>\n",
       "    <tr>\n",
       "      <th>75%</th>\n",
       "      <td>-3.899706e-02</td>\n",
       "      <td>-4.672178e-02</td>\n",
       "      <td>-1.032471e-01</td>\n",
       "      <td>-1.369075e-01</td>\n",
       "      <td>-8.490436e-02</td>\n",
       "      <td>-1.225150e-01</td>\n",
       "    </tr>\n",
       "    <tr>\n",
       "      <th>max</th>\n",
       "      <td>1.027463e+02</td>\n",
       "      <td>5.028101e+01</td>\n",
       "      <td>3.144242e+01</td>\n",
       "      <td>1.781677e+01</td>\n",
       "      <td>4.777379e+01</td>\n",
       "      <td>4.939092e+01</td>\n",
       "    </tr>\n",
       "  </tbody>\n",
       "</table>\n",
       "</div>"
      ],
      "text/plain": [
       "             adview         views         likes      duration      dislikes  \\\n",
       "count  1.463700e+04  1.463700e+04  1.463700e+04  1.463700e+04  1.463700e+04   \n",
       "mean  -4.601562e-16 -3.758390e-18 -4.452421e-17 -3.437922e-17 -1.020473e-16   \n",
       "std    1.000034e+00  1.000034e+00  1.000034e+00  1.000034e+00  1.000034e+00   \n",
       "min   -3.909172e-02 -2.603734e-01 -3.116786e-01 -4.489840e-01 -2.470813e-01   \n",
       "25%   -3.909172e-02 -2.488524e-01 -3.018332e-01 -3.682671e-01 -2.402834e-01   \n",
       "50%   -3.907279e-02 -2.023005e-01 -2.613328e-01 -3.087007e-01 -2.101787e-01   \n",
       "75%   -3.899706e-02 -4.672178e-02 -1.032471e-01 -1.369075e-01 -8.490436e-02   \n",
       "max    1.027463e+02  5.028101e+01  3.144242e+01  1.781677e+01  4.777379e+01   \n",
       "\n",
       "            comment  \n",
       "count  1.463700e+04  \n",
       "mean   7.433344e-18  \n",
       "std    1.000034e+00  \n",
       "min   -2.707489e-01  \n",
       "25%   -2.661166e-01  \n",
       "50%   -2.403080e-01  \n",
       "75%   -1.225150e-01  \n",
       "max    4.939092e+01  "
      ]
     },
     "execution_count": 153,
     "metadata": {},
     "output_type": "execute_result"
    }
   ],
   "source": [
    "data_scaled.describe()"
   ]
  },
  {
   "cell_type": "code",
   "execution_count": 159,
   "metadata": {},
   "outputs": [
    {
     "data": {
      "text/plain": [
       "<matplotlib.axes._subplots.AxesSubplot at 0x7f986c09fc18>"
      ]
     },
     "execution_count": 159,
     "metadata": {},
     "output_type": "execute_result"
    },
    {
     "data": {
      "image/png": "[encoded data removed]",
      "text/plain": [
       "<matplotlib.figure.Figure at 0x7f986c043128>"
      ]
     },
     "metadata": {},
     "output_type": "display_data"
    }
   ],
   "source": [
    "sns.distplot(data_scaled.adview)"
   ]
  },
  {
   "cell_type": "code",
   "execution_count": 160,
   "metadata": {},
   "outputs": [
    {
     "data": {
      "text/plain": [
       "15.63932497684379"
      ]
     },
     "execution_count": 160,
     "metadata": {},
     "output_type": "execute_result"
    }
   ],
   "source": [
    "skew(data_scaled.adview)"
   ]
  },
  {
   "cell_type": "code",
   "execution_count": 157,
   "metadata": {
    "scrolled": true
   },
   "outputs": [
    {
     "data": {
      "text/plain": [
       "<matplotlib.axes._subplots.AxesSubplot at 0x7f986c3495c0>"
      ]
     },
     "execution_count": 157,
     "metadata": {},
     "output_type": "execute_result"
    },
    {
     "data": {
      "image/png": "[encoded data removed]",
      "text/plain": [
       "<matplotlib.figure.Figure at 0x7f98720fcef0>"
      ]
     },
     "metadata": {},
     "output_type": "display_data"
    }
   ],
   "source": [
    "data_scaled['adview'] = np.log1p(data_scaled[\"adview\"])\n",
    "sns.boxplot(data_scaled.adview)"
   ]
  },
  {
   "cell_type": "code",
   "execution_count": 146,
   "metadata": {
    "collapsed": true
   },
   "outputs": [],
   "source": [
    "data2 = data.copy()"
   ]
  },
  {
   "cell_type": "code",
   "execution_count": 149,
   "metadata": {},
   "outputs": [
    {
     "data": {
      "text/plain": [
       "79.70925187548318"
      ]
     },
     "execution_count": 149,
     "metadata": {},
     "output_type": "execute_result"
    },
    {
     "data": {
      "image/png": "[encoded data removed]",
      "text/plain": [
       "<matplotlib.figure.Figure at 0x7f986cac1a58>"
      ]
     },
     "metadata": {},
     "output_type": "display_data"
    }
   ],
   "source": [
    "figure, (ax1,ax2) = plt.subplots(1,2,figsize = (17,5))\n",
    "sns.distplot(data2['adview'], kde = False, ax = ax1, bins = 200)\n",
    "sns.distplot(np.log1p(data2[\"adview\"]), kde = False, axlabel = 'Normalized Salary', ax = ax2, bins = 100)\n",
    "#data2['adview'] = np.log1p(data2[\"adview\"])\n",
    "skew(data2.adview)"
   ]
  },
  {
   "cell_type": "code",
   "execution_count": 151,
   "metadata": {},
   "outputs": [
    {
     "data": {
      "text/plain": [
       "1.5763115329104331"
      ]
     },
     "execution_count": 151,
     "metadata": {},
     "output_type": "execute_result"
    }
   ],
   "source": [
    "data2['adview'] = np.log1p(data2[\"adview\"])\n",
    "skew(data2.adview)"
   ]
  },
  {
   "cell_type": "code",
   "execution_count": 155,
   "metadata": {},
   "outputs": [
    {
     "data": {
      "text/plain": [
       "<matplotlib.axes._subplots.AxesSubplot at 0x7f9871875a90>"
      ]
     },
     "execution_count": 155,
     "metadata": {},
     "output_type": "execute_result"
    },
    {
     "data": {
      "image/png": "[encoded data removed]",
      "text/plain": [
       "<matplotlib.figure.Figure at 0x7f987186f940>"
      ]
     },
     "metadata": {},
     "output_type": "display_data"
    }
   ],
   "source": [
    "sns.distplot(data2.adview)"
   ]
  },
  {
   "cell_type": "code",
   "execution_count": 163,
   "metadata": {
    "collapsed": true
   },
   "outputs": [],
   "source": [
    "\n",
    "data2_scaled = preprocessing.scale(data2.adview)\n",
    "data2_scaled = pd.DataFrame(data2_scaled)"
   ]
  },
  {
   "cell_type": "code",
   "execution_count": 164,
   "metadata": {},
   "outputs": [
    {
     "data": {
      "text/html": [
       "<div>\n",
       "<style>\n",
       "    .dataframe thead tr:only-child th {\n",
       "        text-align: right;\n",
       "    }\n",
       "\n",
       "    .dataframe thead th {\n",
       "        text-align: left;\n",
       "    }\n",
       "\n",
       "    .dataframe tbody tr th {\n",
       "        vertical-align: top;\n",
       "    }\n",
       "</style>\n",
       "<table border=\"1\" class=\"dataframe\">\n",
       "  <thead>\n",
       "    <tr style=\"text-align: right;\">\n",
       "      <th></th>\n",
       "      <th>0</th>\n",
       "    </tr>\n",
       "  </thead>\n",
       "  <tbody>\n",
       "    <tr>\n",
       "      <th>0</th>\n",
       "      <td>1.444222</td>\n",
       "    </tr>\n",
       "    <tr>\n",
       "      <th>1</th>\n",
       "      <td>-0.315191</td>\n",
       "    </tr>\n",
       "    <tr>\n",
       "      <th>2</th>\n",
       "      <td>-0.781995</td>\n",
       "    </tr>\n",
       "    <tr>\n",
       "      <th>3</th>\n",
       "      <td>0.422219</td>\n",
       "    </tr>\n",
       "    <tr>\n",
       "      <th>4</th>\n",
       "      <td>-0.781995</td>\n",
       "    </tr>\n",
       "  </tbody>\n",
       "</table>\n",
       "</div>"
      ],
      "text/plain": [
       "          0\n",
       "0  1.444222\n",
       "1 -0.315191\n",
       "2 -0.781995\n",
       "3  0.422219\n",
       "4 -0.781995"
      ]
     },
     "execution_count": 164,
     "metadata": {},
     "output_type": "execute_result"
    }
   ],
   "source": [
    "data2_scaled.head()"
   ]
  },
  {
   "cell_type": "code",
   "execution_count": null,
   "metadata": {
    "collapsed": true
   },
   "outputs": [],
   "source": []
  }
 ],
 "metadata": {
  "kernelspec": {
   "display_name": "Python 3",
   "language": "python",
   "name": "python3"
  },
  "language_info": {
   "codemirror_mode": {
    "name": "ipython",
    "version": 3
   },
   "file_extension": ".py",
   "mimetype": "text/x-python",
   "name": "python",
   "nbconvert_exporter": "python",
   "pygments_lexer": "ipython3",
   "version": "3.6.1"
  }
 },
 "nbformat": 4,
 "nbformat_minor": 2
}
